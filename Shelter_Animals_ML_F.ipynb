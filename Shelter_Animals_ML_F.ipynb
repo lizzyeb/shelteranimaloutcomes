{
 "cells": [
  {
   "cell_type": "markdown",
   "metadata": {},
   "source": [
    "# MACHINE LEARNING OF TRAINING DATA\n",
    "\n",
    "Data source: https://www.kaggle.com/c/shelter-animal-outcomes\n",
    "\n",
    "The objective of this investigation is to predict the outcomes experienced by shelter animals (Adoption, Died, Euthanasia, Return_to_owner, Transfer) based on information such as animal type, animal sex and animal age.  I have performed a separate exploratory analysis of the data in order to identify which features may be most powerful.\n",
    "\n",
    "I will begin by pre-processing a training dataset provided by Kaggle, carrying out the necessary steps to get that dataset ready for input into a Decision Tree Classifier. \n",
    "\n",
    "Once my classifier has been trained, I will import and preprocess the testing dataset provided by Kaggle, and use the classifier to predict outcomes for the animals in that dataset."
   ]
  },
  {
   "cell_type": "markdown",
   "metadata": {},
   "source": [
    "# PROCESSING OF TRAINING DATA"
   ]
  },
  {
   "cell_type": "code",
   "execution_count": 2,
   "metadata": {
    "collapsed": false
   },
   "outputs": [
    {
     "name": "stdout",
     "output_type": "stream",
     "text": [
      "  AnimalID     Name             DateTime      OutcomeType OutcomeSubtype  \\\n",
      "0  A671945  Hambone  2014-02-12 18:22:00  Return_to_owner            NaN   \n",
      "1  A656520    Emily  2013-10-13 12:44:00       Euthanasia      Suffering   \n",
      "2  A686464   Pearce  2015-01-31 12:28:00         Adoption         Foster   \n",
      "3  A683430      NaN  2014-07-11 19:09:00         Transfer        Partner   \n",
      "4  A667013      NaN  2013-11-15 12:52:00         Transfer        Partner   \n",
      "\n",
      "  AnimalType SexuponOutcome AgeuponOutcome                        Breed  \\\n",
      "0        Dog  Neutered Male         1 year        Shetland Sheepdog Mix   \n",
      "1        Cat  Spayed Female         1 year       Domestic Shorthair Mix   \n",
      "2        Dog  Neutered Male        2 years                 Pit Bull Mix   \n",
      "3        Cat    Intact Male        3 weeks       Domestic Shorthair Mix   \n",
      "4        Dog  Neutered Male        2 years  Lhasa Apso/Miniature Poodle   \n",
      "\n",
      "         Color  \n",
      "0  Brown/White  \n",
      "1  Cream Tabby  \n",
      "2   Blue/White  \n",
      "3   Blue Cream  \n",
      "4          Tan  \n",
      "AnimalID          26729\n",
      "Name              19038\n",
      "DateTime          26729\n",
      "OutcomeType       26729\n",
      "OutcomeSubtype    13117\n",
      "AnimalType        26729\n",
      "SexuponOutcome    26728\n",
      "AgeuponOutcome    26711\n",
      "Breed             26729\n",
      "Color             26729\n",
      "dtype: int64\n"
     ]
    }
   ],
   "source": [
    "#Import CSV file as a pandas dataframe.\n",
    "\n",
    "import numpy as np\n",
    "import pandas as pd\n",
    "\n",
    "animals = pd.read_csv(\"train.csv\")\n",
    "\n",
    "print animals.head()\n",
    "print animals.count()"
   ]
  },
  {
   "cell_type": "code",
   "execution_count": 3,
   "metadata": {
    "collapsed": false
   },
   "outputs": [
    {
     "name": "stdout",
     "output_type": "stream",
     "text": [
      "              DateTime      OutcomeType AnimalType SexuponOutcome  \\\n",
      "0  2014-02-12 18:22:00  Return_to_owner        Dog  Neutered Male   \n",
      "1  2013-10-13 12:44:00       Euthanasia        Cat  Spayed Female   \n",
      "2  2015-01-31 12:28:00         Adoption        Dog  Neutered Male   \n",
      "3  2014-07-11 19:09:00         Transfer        Cat    Intact Male   \n",
      "4  2013-11-15 12:52:00         Transfer        Dog  Neutered Male   \n",
      "\n",
      "  AgeuponOutcome  \n",
      "0         1 year  \n",
      "1         1 year  \n",
      "2        2 years  \n",
      "3        3 weeks  \n",
      "4        2 years  \n"
     ]
    }
   ],
   "source": [
    "#Drop columns not being considered in current investigation\n",
    "animals_clean = animals.drop(\"AnimalID\", axis=1)\n",
    "animals_clean = animals_clean.drop(\"Name\", axis=1)\n",
    "animals_clean = animals_clean.drop(\"OutcomeSubtype\", axis=1)\n",
    "animals_clean = animals_clean.drop(\"Color\", axis=1)\n",
    "animals_clean = animals_clean.drop(\"Breed\", axis=1)\n",
    "\n",
    "print animals_clean.head()"
   ]
  },
  {
   "cell_type": "code",
   "execution_count": 4,
   "metadata": {
    "collapsed": false
   },
   "outputs": [
    {
     "name": "stdout",
     "output_type": "stream",
     "text": [
      "DateTime          26710\n",
      "OutcomeType       26710\n",
      "AnimalType        26710\n",
      "SexuponOutcome    26710\n",
      "AgeuponOutcome    26710\n",
      "dtype: int64\n"
     ]
    }
   ],
   "source": [
    "#Remove NaNs from all remaining columns\n",
    "def nan_remover(dataframe):\n",
    "    list_of_columns = dataframe.columns.tolist()\n",
    "    for column in list_of_columns:\n",
    "        dataframe = dataframe[dataframe[column].notnull()]\n",
    "    return dataframe\n",
    "\n",
    "animals_clean = nan_remover(animals_clean)\n",
    "\n",
    "print animals_clean.count()"
   ]
  },
  {
   "cell_type": "code",
   "execution_count": 5,
   "metadata": {
    "collapsed": false
   },
   "outputs": [],
   "source": [
    "#Create two empty lists, one to contain the machine learning features, the other the labels\n",
    "#Features and labels will be stored as tuples in the form indicated below\n",
    "#(Name_as_string, values_as_pd_series)\n",
    "\n",
    "list_of_features = []\n",
    "list_of_labels = []"
   ]
  },
  {
   "cell_type": "code",
   "execution_count": 6,
   "metadata": {
    "collapsed": true
   },
   "outputs": [],
   "source": [
    "#Function that takes a categorical column from the animals dataframe, returns multiple dummy columns (listing 1 \n",
    "#where condition true, 0 where false), and appends those columns to the appropriate list - features or labels\n",
    "\n",
    "def add_dummies_to_list(column_to_dummy, target_list):\n",
    "    dummies_df = pd.get_dummies(column_to_dummy)\n",
    "    for column in dummies_df:\n",
    "        target_list.append((column, dummies_df[str(column)]))\n",
    "\n"
   ]
  },
  {
   "cell_type": "code",
   "execution_count": 7,
   "metadata": {
    "collapsed": false
   },
   "outputs": [],
   "source": [
    "#Create dummies for OutcomeType (label), and SexuponOutcome and AnimalType (features). Append dummies to correct list.\n",
    "\n",
    "add_dummies_to_list(animals_clean[\"OutcomeType\"], list_of_labels)\n",
    "add_dummies_to_list(animals_clean[\"SexuponOutcome\"], list_of_features)\n",
    "add_dummies_to_list(animals_clean[\"AnimalType\"], list_of_features)"
   ]
  },
  {
   "cell_type": "code",
   "execution_count": 8,
   "metadata": {
    "collapsed": false
   },
   "outputs": [
    {
     "name": "stdout",
     "output_type": "stream",
     "text": [
      "0     2\n",
      "1    10\n",
      "2     1\n",
      "3     7\n",
      "4    11\n",
      "Name: Month, dtype: int64\n",
      "26710\n"
     ]
    }
   ],
   "source": [
    "#Function that takes the DateTime entry and returns an integer between 1 and 12, to represent the calendar month.\n",
    "\n",
    "def month_slicer(entry):\n",
    "    entry = int(entry[5:7])\n",
    "    return entry\n",
    "\n",
    "animals_clean[\"Month\"] = animals_clean[\"DateTime\"].apply(month_slicer)\n",
    "\n",
    "print animals_clean[\"Month\"].head()\n",
    "print animals_clean[\"Month\"].count()"
   ]
  },
  {
   "cell_type": "code",
   "execution_count": 9,
   "metadata": {
    "collapsed": false
   },
   "outputs": [],
   "source": [
    "#Add newly created Month feature to the list of features\n",
    "\n",
    "list_of_features.append((\"Month\", animals_clean[\"Month\"]))"
   ]
  },
  {
   "cell_type": "code",
   "execution_count": 10,
   "metadata": {
    "collapsed": false
   },
   "outputs": [],
   "source": [
    "#Define function to convert age column to number of days (rounded to nearest day)\n",
    "def age_converter(age_column):\n",
    "    times_list = [\"year\", \"month\", \"week\", \"day\"]\n",
    "    list_of_unconverted_ages = age_column.values.tolist()\n",
    "    list_of_converted_ages = []\n",
    "    for item in list_of_unconverted_ages:\n",
    "        i = 0\n",
    "        while i < len(times_list):\n",
    "            if times_list[i] in item:\n",
    "        #for time in times_list:\n",
    "            #if time in item:\n",
    "                current_time = times_list[i]\n",
    "                i += 1\n",
    "                space_location = item.index(\" \")\n",
    "                cut_item = item[:space_location]\n",
    "                if current_time == \"year\":\n",
    "                    list_of_converted_ages.append(int(cut_item)*365)\n",
    "                if current_time == \"month\":\n",
    "                    list_of_converted_ages.append(int(float(cut_item)*(365.0/12)))\n",
    "                if current_time == \"week\":\n",
    "                    list_of_converted_ages.append(int(cut_item)*7)\n",
    "                if current_time == \"day\":\n",
    "                    list_of_converted_ages.append(int(cut_item))\n",
    "            else:\n",
    "                i += 1\n",
    "                #else:\n",
    "                #    new_column.append(0.0)\n",
    "    return pd.Series(list_of_converted_ages)\n",
    "\n",
    "series_of_converted_ages = age_converter(animals_clean[\"AgeuponOutcome\"])\n"
   ]
  },
  {
   "cell_type": "code",
   "execution_count": 11,
   "metadata": {
    "collapsed": true
   },
   "outputs": [],
   "source": [
    "#Add newly created Age feature to the list of features\n",
    "\n",
    "list_of_features.append((\"Age\", series_of_converted_ages))"
   ]
  },
  {
   "cell_type": "code",
   "execution_count": 12,
   "metadata": {
    "collapsed": true
   },
   "outputs": [],
   "source": [
    "#Create master function that takes a list_of_inputs as its input, and returns an array that is ready\n",
    "#for use in the machine learning pipeline.\n",
    "def create_array_for_machine_learning(list_of_inputs):\n",
    "    length_checker(list_of_inputs)\n",
    "    ml_array = ml_array_maker(list_of_inputs)\n",
    "    return ml_array\n",
    "\n",
    "#The master function first runs a length checker, which confirms that every series in the list_of_inputs\n",
    "#is the same length, or else returns an eror message.\n",
    "def length_checker(list_of_inputs):\n",
    "    length = list_of_inputs[0][1].count()\n",
    "    for item in list_of_inputs:\n",
    "        new_length = item[1].count()\n",
    "        if new_length != length:\n",
    "            print \"Inconsistent column length at:\"\n",
    "            print item[0]\n",
    "            return\n",
    "        else:\n",
    "            length = new_length\n",
    "    print \"Consistent column lengths.\"\n",
    "\n",
    "#The master function then runs the array maker, which converts each series in the list_of_inputs to\n",
    "#a numpy array, reshapes that numpy array, and then concatenates all the 1D arrays into a single 2D array.\n",
    "#If the process somehow create any NaNs, an error message is returned and the process terminated.\n",
    "def ml_array_maker(list_of_inputs):\n",
    "    list_of_arrays = []\n",
    "    for item in list_of_inputs:\n",
    "        new_array = np.array(item[1])\n",
    "        new_array = new_array[:,None]\n",
    "        if np.isnan(np.sum(new_array)) == True:\n",
    "            print column\n",
    "            print \"NAN!\"\n",
    "            return\n",
    "        list_of_arrays.append(new_array)\n",
    "    ml_array = np.concatenate(list_of_arrays, axis =1)\n",
    "    print \"Array completed with no NaNs.\"\n",
    "    return ml_array"
   ]
  },
  {
   "cell_type": "code",
   "execution_count": 13,
   "metadata": {
    "collapsed": false
   },
   "outputs": [
    {
     "name": "stdout",
     "output_type": "stream",
     "text": [
      "9\n",
      "Intact Female\n",
      "Intact Male\n",
      "Neutered Male\n",
      "Spayed Female\n",
      "Unknown\n",
      "Cat\n",
      "Dog\n",
      "Month\n",
      "Age\n"
     ]
    }
   ],
   "source": [
    "#Check we have the features we want\n",
    "print len(list_of_features)\n",
    "\n",
    "for feature in list_of_features:\n",
    "    print feature[0]"
   ]
  },
  {
   "cell_type": "code",
   "execution_count": 19,
   "metadata": {
    "collapsed": false
   },
   "outputs": [
    {
     "name": "stdout",
     "output_type": "stream",
     "text": [
      "Consistent column lengths.\n",
      "Array completed with no NaNs.\n"
     ]
    }
   ],
   "source": [
    "#Create 2D feature array\n",
    "features = create_array_for_machine_learning(list_of_features)"
   ]
  },
  {
   "cell_type": "code",
   "execution_count": 20,
   "metadata": {
    "collapsed": false
   },
   "outputs": [
    {
     "name": "stdout",
     "output_type": "stream",
     "text": [
      "5\n",
      "Adoption\n",
      "Died\n",
      "Euthanasia\n",
      "Return_to_owner\n",
      "Transfer\n"
     ]
    }
   ],
   "source": [
    "#Check we have the labels we want\n",
    "\n",
    "print len(list_of_labels)\n",
    "\n",
    "for label in list_of_labels:\n",
    "    print label[0]"
   ]
  },
  {
   "cell_type": "code",
   "execution_count": 21,
   "metadata": {
    "collapsed": false
   },
   "outputs": [
    {
     "name": "stdout",
     "output_type": "stream",
     "text": [
      "Consistent column lengths.\n",
      "Array completed with no NaNs.\n"
     ]
    }
   ],
   "source": [
    "#Create 2D label array\n",
    "labels = create_array_for_machine_learning(list_of_labels)"
   ]
  },
  {
   "cell_type": "code",
   "execution_count": 17,
   "metadata": {
    "collapsed": true
   },
   "outputs": [],
   "source": []
  },
  {
   "cell_type": "markdown",
   "metadata": {},
   "source": [
    "# MACHINE LEARNING FROM TRAINING DATA"
   ]
  },
  {
   "cell_type": "code",
   "execution_count": 39,
   "metadata": {
    "collapsed": false
   },
   "outputs": [],
   "source": [
    "#Split data into training and testing sets\n",
    "\n",
    "from sklearn.cross_validation import train_test_split\n",
    "features_train, features_test, labels_train, labels_test = train_test_split(features, labels, test_size = 0.1)"
   ]
  },
  {
   "cell_type": "code",
   "execution_count": 40,
   "metadata": {
    "collapsed": false
   },
   "outputs": [
    {
     "name": "stdout",
     "output_type": "stream",
     "text": [
      "{'min_samples_split': 10000, 'splitter': 'random', 'criterion': 'entropy'}\n",
      "0.560089853987\n"
     ]
    }
   ],
   "source": [
    "#Use Grid Search to optimize parameters used in Decision Tree Classifier\n",
    "#Return best parameter combination and accuracy score based on test set of data split\n",
    "\n",
    "from sklearn import grid_search\n",
    "from sklearn.tree import DecisionTreeClassifier\n",
    "\n",
    "param_grid = [{\"min_samples_split\":[10,1000,10000], \n",
    "               \"criterion\": [\"gini\", \"entropy\"], \n",
    "               \"splitter\": [\"best\", \"random\"]}]\n",
    "\n",
    "dtc = DecisionTreeClassifier()\n",
    "clf = grid_search.GridSearchCV(dtc, param_grid)\n",
    "clf.fit(features_train, labels_train)\n",
    "\n",
    "print clf.best_params_\n",
    "\n",
    "print clf.score(features_test, labels_test)"
   ]
  },
  {
   "cell_type": "markdown",
   "metadata": {},
   "source": [
    "# PROCESSING OF TESTING DATA"
   ]
  },
  {
   "cell_type": "code",
   "execution_count": 41,
   "metadata": {
    "collapsed": false
   },
   "outputs": [
    {
     "name": "stdout",
     "output_type": "stream",
     "text": [
      "   ID      Name             DateTime AnimalType SexuponOutcome AgeuponOutcome  \\\n",
      "0   1    Summer  2015-10-12 12:15:00        Dog  Intact Female      10 months   \n",
      "1   2  Cheyenne  2014-07-26 17:59:00        Dog  Spayed Female        2 years   \n",
      "2   3       Gus  2016-01-13 12:20:00        Cat  Neutered Male         1 year   \n",
      "3   4     Pongo  2013-12-28 18:12:00        Dog    Intact Male       4 months   \n",
      "4   5   Skooter  2015-09-24 17:59:00        Dog  Neutered Male        2 years   \n",
      "\n",
      "                            Breed        Color  \n",
      "0          Labrador Retriever Mix    Red/White  \n",
      "1  German Shepherd/Siberian Husky    Black/Tan  \n",
      "2          Domestic Shorthair Mix  Brown Tabby  \n",
      "3               Collie Smooth Mix     Tricolor  \n",
      "4            Miniature Poodle Mix        White  \n",
      "ID                11456\n",
      "Name               8231\n",
      "DateTime          11456\n",
      "AnimalType        11456\n",
      "SexuponOutcome    11456\n",
      "AgeuponOutcome    11450\n",
      "Breed             11456\n",
      "Color             11456\n",
      "dtype: int64\n"
     ]
    }
   ],
   "source": [
    "#Import test CSV (from Kaggle competition) as pandas dataframe\n",
    "\n",
    "test_data = pd.read_csv(\"test.csv\")\n",
    "\n",
    "print test_data.head()\n",
    "print test_data.count()"
   ]
  },
  {
   "cell_type": "code",
   "execution_count": 42,
   "metadata": {
    "collapsed": false
   },
   "outputs": [
    {
     "name": "stdout",
     "output_type": "stream",
     "text": [
      "2.17650390034\n"
     ]
    }
   ],
   "source": [
    "#AgeuponOutcome columns contains NaNs. Cannot simply remove these entries as need all in place for Kaggle \n",
    "#scoring process. Instead will replace with mean age found in the training data set. \n",
    "\n",
    "print (series_of_converted_ages.mean())/365"
   ]
  },
  {
   "cell_type": "code",
   "execution_count": 43,
   "metadata": {
    "collapsed": false
   },
   "outputs": [],
   "source": [
    "#Round down to closest value actually found in data set - \"2 years\". Replace NaNs with this value\n",
    "\n",
    "test_data[\"Age no Nans\"] = test_data[\"AgeuponOutcome\"].fillna(value=\"2 years\")\n"
   ]
  },
  {
   "cell_type": "code",
   "execution_count": 44,
   "metadata": {
    "collapsed": false
   },
   "outputs": [
    {
     "name": "stdout",
     "output_type": "stream",
     "text": [
      "   ID             DateTime AnimalType SexuponOutcome Age no Nans\n",
      "0   1  2015-10-12 12:15:00        Dog  Intact Female   10 months\n",
      "1   2  2014-07-26 17:59:00        Dog  Spayed Female     2 years\n",
      "2   3  2016-01-13 12:20:00        Cat  Neutered Male      1 year\n",
      "3   4  2013-12-28 18:12:00        Dog    Intact Male    4 months\n",
      "4   5  2015-09-24 17:59:00        Dog  Neutered Male     2 years\n"
     ]
    }
   ],
   "source": [
    "#Drop columns that were not used to train the machine learning algorithm\n",
    "\n",
    "test_clean = test_data.drop(\"Name\", axis=1)\n",
    "test_clean = test_clean.drop(\"Color\", axis=1)\n",
    "test_clean = test_clean.drop(\"Breed\", axis=1)\n",
    "test_clean = test_clean.drop(\"AgeuponOutcome\", axis=1)\n",
    "\n",
    "print test_clean.head()"
   ]
  },
  {
   "cell_type": "code",
   "execution_count": 45,
   "metadata": {
    "collapsed": false
   },
   "outputs": [
    {
     "name": "stdout",
     "output_type": "stream",
     "text": [
      "[[ 1]\n",
      " [ 2]\n",
      " [ 3]\n",
      " [ 4]\n",
      " [ 5]\n",
      " [ 6]\n",
      " [ 7]\n",
      " [ 8]\n",
      " [ 9]\n",
      " [10]]\n"
     ]
    }
   ],
   "source": [
    "#Extract test-id from dataframe for later use\n",
    "\n",
    "test_id = np.array(test_clean[\"ID\"])[:,None]\n",
    "print test_id[:10]\n"
   ]
  },
  {
   "cell_type": "code",
   "execution_count": 46,
   "metadata": {
    "collapsed": true
   },
   "outputs": [],
   "source": [
    "#Create empty list to contain tuples of test features\n",
    "\n",
    "list_of_test_features = []"
   ]
  },
  {
   "cell_type": "code",
   "execution_count": 47,
   "metadata": {
    "collapsed": true
   },
   "outputs": [],
   "source": [
    "#Create dummy columns and append to list of test feaures\n",
    "\n",
    "add_dummies_to_list(test_clean[\"SexuponOutcome\"], list_of_test_features)\n",
    "add_dummies_to_list(test_clean[\"AnimalType\"], list_of_test_features)"
   ]
  },
  {
   "cell_type": "code",
   "execution_count": 48,
   "metadata": {
    "collapsed": false
   },
   "outputs": [],
   "source": [
    "#Convert DateTime to integer month and append to list of test features\n",
    "\n",
    "test_clean[\"Month\"] = test_clean[\"DateTime\"].apply(month_slicer)\n",
    "\n",
    "list_of_test_features.append((\"Month\", test_clean[\"Month\"]))"
   ]
  },
  {
   "cell_type": "code",
   "execution_count": 49,
   "metadata": {
    "collapsed": false
   },
   "outputs": [],
   "source": [
    "#Convert ages to integer number of days, and append to list of test features\n",
    "\n",
    "series_of_converted_ages = age_converter(test_clean[\"Age no Nans\"])\n",
    "\n",
    "list_of_test_features.append((\"Age\", series_of_converted_ages))"
   ]
  },
  {
   "cell_type": "code",
   "execution_count": 50,
   "metadata": {
    "collapsed": false
   },
   "outputs": [
    {
     "name": "stdout",
     "output_type": "stream",
     "text": [
      "9\n",
      "Intact Female\n",
      "Intact Male\n",
      "Neutered Male\n",
      "Spayed Female\n",
      "Unknown\n",
      "Cat\n",
      "Dog\n",
      "Month\n",
      "Age\n"
     ]
    }
   ],
   "source": [
    "#Check we have same features as used to train the machine learning algorithm\n",
    "\n",
    "print len(list_of_test_features)\n",
    "\n",
    "for feature in list_of_test_features:\n",
    "    print feature[0]"
   ]
  },
  {
   "cell_type": "markdown",
   "metadata": {},
   "source": [
    "# MAKE PREDICTIONS FROM TESTING DATA"
   ]
  },
  {
   "cell_type": "code",
   "execution_count": 51,
   "metadata": {
    "collapsed": false
   },
   "outputs": [
    {
     "name": "stdout",
     "output_type": "stream",
     "text": [
      "Consistent column lengths.\n",
      "Array completed with no NaNs.\n"
     ]
    }
   ],
   "source": [
    "#Create 2D feature array from list of test_features\n",
    "test_features = create_array_for_machine_learning(list_of_test_features)"
   ]
  },
  {
   "cell_type": "code",
   "execution_count": 52,
   "metadata": {
    "collapsed": false
   },
   "outputs": [
    {
     "name": "stdout",
     "output_type": "stream",
     "text": [
      "   ID  Adoption  Died  Euthanasia  Return_to_owner  Transfer\n",
      "0   1         0     0           0                0         1\n",
      "1   2         1     0           0                0         0\n",
      "2   3         1     0           0                0         0\n",
      "3   4         0     0           0                0         1\n",
      "4   5         1     0           0                0         0\n",
      "ID                 11456\n",
      "Adoption           11456\n",
      "Died               11456\n",
      "Euthanasia         11456\n",
      "Return_to_owner    11456\n",
      "Transfer           11456\n",
      "dtype: int64\n",
      "ID                 int64\n",
      "Adoption           int64\n",
      "Died               int64\n",
      "Euthanasia         int64\n",
      "Return_to_owner    int64\n",
      "Transfer           int64\n",
      "dtype: object\n"
     ]
    }
   ],
   "source": [
    "#Create 2D prediction array\n",
    "predictions_array = clf.predict(test_features)\n",
    "\n",
    "#Concatenate test_id column with prediction array\n",
    "predictions_array = np.concatenate((test_id,predictions_array),axis=1)\n",
    "\n",
    "#Convert array to dataframe, name columns as per kaggle requirements, set integer data type as per kaggle requirements\n",
    "predictions_df = pd.DataFrame(predictions_array, dtype=int)\n",
    "predictions_df.rename(columns={0: \"ID\", 1: \"Adoption\", 2: \"Died\", 3: \"Euthanasia\", 4: \"Return_to_owner\", 5:\"Transfer\"},\\\n",
    "                      inplace=True)\n",
    "\n",
    "#Check number of entries, datatypes\n",
    "print predictions_df.head()\n",
    "print predictions_df.count()\n",
    "print predictions_df.dtypes\n"
   ]
  },
  {
   "cell_type": "code",
   "execution_count": 53,
   "metadata": {
    "collapsed": true
   },
   "outputs": [],
   "source": [
    "#Write dataframe to csv file\n",
    "\n",
    "predictions_df.to_csv(\"ml_output_080816.csv\", index=False)"
   ]
  },
  {
   "cell_type": "code",
   "execution_count": null,
   "metadata": {
    "collapsed": true
   },
   "outputs": [],
   "source": []
  }
 ],
 "metadata": {
  "kernelspec": {
   "display_name": "Python 2",
   "language": "python",
   "name": "python2"
  },
  "language_info": {
   "codemirror_mode": {
    "name": "ipython",
    "version": 2
   },
   "file_extension": ".py",
   "mimetype": "text/x-python",
   "name": "python",
   "nbconvert_exporter": "python",
   "pygments_lexer": "ipython2",
   "version": "2.7.12"
  }
 },
 "nbformat": 4,
 "nbformat_minor": 0
}
